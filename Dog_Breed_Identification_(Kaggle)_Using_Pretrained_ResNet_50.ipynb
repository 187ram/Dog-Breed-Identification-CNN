{
  "nbformat": 4,
  "nbformat_minor": 0,
  "metadata": {
    "colab": {
      "name": "Dog Breed Identification (Kaggle)-Using Pretrained ResNet-50.ipynb",
      "provenance": [],
      "collapsed_sections": [],
      "toc_visible": true,
      "mount_file_id": "14CmKzTIzfPPuPSNuZvkXBap6wL9VJtk5",
      "authorship_tag": "ABX9TyM3jqVRXciDmwUL2/zYpaoC",
      "include_colab_link": true
    },
    "kernelspec": {
      "name": "python3",
      "display_name": "Python 3"
    },
    "accelerator": "GPU"
  },
  "cells": [
    {
      "cell_type": "markdown",
      "metadata": {
        "id": "view-in-github",
        "colab_type": "text"
      },
      "source": [
        "<a href=\"https://colab.research.google.com/github/187ram/Dog-Breed-Identification-CNN/blob/dev-branch/Dog_Breed_Identification_(Kaggle)_Using_Pretrained_ResNet_50.ipynb\" target=\"_parent\"><img src=\"https://colab.research.google.com/assets/colab-badge.svg\" alt=\"Open In Colab\"/></a>"
      ]
    },
    {
      "cell_type": "markdown",
      "metadata": {
        "id": "yiN4GRI4SWHZ"
      },
      "source": [
        "# Totality Corp\n",
        "## Assignment\n",
        "**Part 1**\n",
        "\n",
        "Build a dog breed image classification model with the architecture specified below.\n",
        "\n",
        "**Dataset** - https://www.kaggle.com/c/dog-breed-identification/data\n"
      ]
    },
    {
      "cell_type": "markdown",
      "metadata": {
        "id": "-pP0IjNkRkQA"
      },
      "source": [
        "###Fetching data from kaggle "
      ]
    },
    {
      "cell_type": "code",
      "metadata": {
        "id": "3lhKvXdKh6mp"
      },
      "source": [
        "#@title\n",
        "! pip install -q kaggle"
      ],
      "execution_count": 4,
      "outputs": []
    },
    {
      "cell_type": "code",
      "metadata": {
        "id": "RhwAtEcJWAWQ",
        "colab": {
          "resources": {
            "http://localhost:8080/nbextensions/google.colab/files.js": {
              "data": "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",
              "ok": true,
              "headers": [
                [
                  "content-type",
                  "application/javascript"
                ]
              ],
              "status": 200,
              "status_text": ""
            }
          },
          "base_uri": "https://localhost:8080/",
          "height": 90
        },
        "outputId": "8f92f018-4f7c-499c-f188-f03707275ac9"
      },
      "source": [
        "#@title\n",
        "from google.colab import files\n",
        "files.upload()"
      ],
      "execution_count": 1,
      "outputs": [
        {
          "output_type": "display_data",
          "data": {
            "text/html": [
              "\n",
              "     <input type=\"file\" id=\"files-aedc54e8-6176-4720-a39a-1392ea300528\" name=\"files[]\" multiple disabled\n",
              "        style=\"border:none\" />\n",
              "     <output id=\"result-aedc54e8-6176-4720-a39a-1392ea300528\">\n",
              "      Upload widget is only available when the cell has been executed in the\n",
              "      current browser session. Please rerun this cell to enable.\n",
              "      </output>\n",
              "      <script src=\"/nbextensions/google.colab/files.js\"></script> "
            ],
            "text/plain": [
              "<IPython.core.display.HTML object>"
            ]
          },
          "metadata": {
            "tags": []
          }
        },
        {
          "output_type": "stream",
          "text": [
            "Saving kaggle.json to kaggle.json\n"
          ],
          "name": "stdout"
        },
        {
          "output_type": "execute_result",
          "data": {
            "text/plain": [
              "{'kaggle.json': b'{\"username\":\"ram187\",\"key\":\"d96ee9616c3171544af6a85ef8c9cbc0\"}'}"
            ]
          },
          "metadata": {
            "tags": []
          },
          "execution_count": 1
        }
      ]
    },
    {
      "cell_type": "code",
      "metadata": {
        "id": "n_Ekb29rXPpF",
        "colab": {
          "base_uri": "https://localhost:8080/"
        },
        "outputId": "df00abc7-3007-4c3a-8193-9f576aedc11c"
      },
      "source": [
        "#@title\n",
        "! mkdir ~/.kaggle\n",
        "! cp kaggle.json ~/.kaggle/"
      ],
      "execution_count": 5,
      "outputs": [
        {
          "output_type": "stream",
          "text": [
            "mkdir: cannot create directory ‘/root/.kaggle’: File exists\n"
          ],
          "name": "stdout"
        }
      ]
    },
    {
      "cell_type": "code",
      "metadata": {
        "id": "XeHDt2Ldhgtn"
      },
      "source": [
        "#@title\n",
        "! chmod 600 ~/.kaggle/kaggle.json"
      ],
      "execution_count": 7,
      "outputs": []
    },
    {
      "cell_type": "code",
      "metadata": {
        "id": "CysfD0QphuGV",
        "colab": {
          "base_uri": "https://localhost:8080/"
        },
        "outputId": "b7cb20d2-316e-4075-e761-aced11168246"
      },
      "source": [
        "#@title\n",
        "! kaggle datasets download -d ram187/dog-breed-identification"
      ],
      "execution_count": 8,
      "outputs": [
        {
          "output_type": "stream",
          "text": [
            "Downloading dog-breed-identification.zip to /content\n",
            " 98% 674M/691M [00:07<00:00, 106MB/s]\n",
            "100% 691M/691M [00:07<00:00, 95.8MB/s]\n"
          ],
          "name": "stdout"
        }
      ]
    },
    {
      "cell_type": "code",
      "metadata": {
        "id": "j-rcywRdh42o"
      },
      "source": [
        "# #@title\n",
        "# ! unzip /content/dog-breed-identification.zip"
      ],
      "execution_count": 49,
      "outputs": []
    },
    {
      "cell_type": "markdown",
      "metadata": {
        "id": "OOKsEyLdR_DC"
      },
      "source": [
        "# Dog Breed Identification\n",
        "The classifier only predict scores for these breeds : beagle, chihuahua, doberman,\n",
        "french_bulldog, golden_retriever, malamute, pug, saint_bernard, scottish_deerhound,\n",
        "tibetan_mastiff."
      ]
    },
    {
      "cell_type": "markdown",
      "metadata": {
        "id": "s6SfDASMUMJ7"
      },
      "source": [
        "# Data Pre-Proccessing"
      ]
    },
    {
      "cell_type": "code",
      "metadata": {
        "id": "Vo59iQSBboDT"
      },
      "source": [
        "import pandas as pd\n",
        "import numpy as np\n",
        "import seaborn as sns\n",
        "import matplotlib\n",
        "import os\n",
        "from shutil import copyfile\n",
        "import matplotlib.pyplot as plt\n",
        "#%matplotlib inline"
      ],
      "execution_count": 11,
      "outputs": []
    },
    {
      "cell_type": "code",
      "metadata": {
        "id": "FatuYf4WboAE"
      },
      "source": [
        "labels = pd.read_csv('labels.csv')\n",
        "selected_breed_list = ['beagle', 'chihuahua', 'doberman','french_bulldog', 'golden_retriever', 'malamute', \n",
        "                      'pug', 'saint_bernard', 'scottish_deerhound', 'tibetan_mastiff']\n",
        "\n",
        "labels = labels[labels['breed'].isin(selected_breed_list)]"
      ],
      "execution_count": 12,
      "outputs": []
    },
    {
      "cell_type": "code",
      "metadata": {
        "id": "vf5QtyZzbn9G",
        "colab": {
          "base_uri": "https://localhost:8080/"
        },
        "outputId": "7e28b760-0221-4b27-e025-7666f70b5638"
      },
      "source": [
        "labels_dict = {i:j for i,j in zip(labels['id'],labels['breed'])}\n",
        "classes = set(labels_dict.values())\n",
        "images = [f for f in os.listdir('train')]\n",
        "print(len(images),images[0])"
      ],
      "execution_count": 13,
      "outputs": [
        {
          "output_type": "stream",
          "text": [
            "10222 b297a6f06bcc920e872fff4eeec4f9bf.jpg\n"
          ],
          "name": "stdout"
        }
      ]
    },
    {
      "cell_type": "code",
      "metadata": {
        "id": "W22iS9nYbn6B"
      },
      "source": [
        "temp = '.'.join((labels.loc[labels.index[840], 'id'],'jpg'))"
      ],
      "execution_count": 14,
      "outputs": []
    },
    {
      "cell_type": "code",
      "metadata": {
        "id": "iBMiz9WfbnyO"
      },
      "source": [
        "new_image = []\n",
        "for item in range(labels.size//2-1):\n",
        "    if  '.'.join((labels.loc[labels.index[item], 'id'],'jpg')) in images:\n",
        "        new_image.append('.'.join((labels.loc[labels.index[item], 'id'],'jpg')))"
      ],
      "execution_count": 15,
      "outputs": []
    },
    {
      "cell_type": "code",
      "metadata": {
        "id": "YYLURMyRbnjp"
      },
      "source": [
        "if  not os.path.exists('training_images'):\n",
        "        os.makedirs('training_images')\n",
        "\n",
        "if  not os.path.exists('validation_images'):\n",
        "    os.makedirs('validation_images')"
      ],
      "execution_count": 16,
      "outputs": []
    },
    {
      "cell_type": "code",
      "metadata": {
        "id": "xQ5Hu3kmcPGD"
      },
      "source": [
        "os.chdir('training_images')\n",
        "for curClass in classes:    \n",
        "    if  not os.path.exists(curClass):\n",
        "        os.makedirs(curClass)\n",
        "        #os.rmdir(curClass)\n",
        "\n",
        "os.chdir('../validation_images')\n",
        "for curClass in classes:    \n",
        "    if  not os.path.exists(curClass):\n",
        "        os.makedirs(curClass)"
      ],
      "execution_count": 17,
      "outputs": []
    },
    {
      "cell_type": "code",
      "metadata": {
        "id": "G3MohccocPJX"
      },
      "source": [
        "os.chdir('..')\n",
        "count = 0 \n",
        "destination_directory = 'training_images/'\n",
        "for item in new_image:\n",
        "    if count >680:\n",
        "        destination_directory = 'validation_images/'\n",
        "    filekey = os.path.splitext(item)[0]\n",
        "    if  not os.path.exists(destination_directory+labels_dict[filekey]+'/'+item):\n",
        "        copyfile('train/'+item, destination_directory+labels_dict[filekey]+'/'+item)\n",
        "    #print(labels_dict[filekey])\n",
        "    count +=1"
      ],
      "execution_count": 18,
      "outputs": []
    },
    {
      "cell_type": "markdown",
      "metadata": {
        "id": "wrL0JBewUs1S"
      },
      "source": [
        "# Displaying the original image of \"Tibetan_Mastiff\""
      ]
    },
    {
      "cell_type": "code",
      "metadata": {
        "id": "8aaDaDCVcPMZ"
      },
      "source": [
        "from keras.preprocessing.image import ImageDataGenerator, array_to_img, img_to_array, load_img"
      ],
      "execution_count": null,
      "outputs": []
    },
    {
      "cell_type": "code",
      "metadata": {
        "id": "HmWCjMkkcPQO"
      },
      "source": [
        "img = load_img('training_images/tibetan_mastiff/70fe05acafe344e3359dd4742aedbc05.jpg') \n",
        "img"
      ],
      "execution_count": null,
      "outputs": []
    },
    {
      "cell_type": "markdown",
      "metadata": {
        "id": "HyumoJI2WL-q"
      },
      "source": [
        "##image augmentation for 3 trials of \"Tibetan_Mastiff \""
      ]
    },
    {
      "cell_type": "code",
      "metadata": {
        "id": "rXrsXszucPTF"
      },
      "source": [
        "datagen = ImageDataGenerator(\n",
        "        rotation_range=50,\n",
        "        width_shift_range=0.3,\n",
        "        height_shift_range=0.2,\n",
        "        shear_range=0.3,\n",
        "        zoom_range=0.3,\n",
        "        horizontal_flip=True,\n",
        "        fill_mode='nearest')\n",
        "\n",
        "img = load_img('training_images/tibetan_mastiff/70fe05acafe344e3359dd4742aedbc05.jpg') \n",
        "x = img_to_array(img)\n",
        "x = x.reshape((1,) + x.shape)\n",
        "\n",
        "i = 0\n",
        "for batch in datagen.flow(x, batch_size=1,\n",
        "                          save_to_dir='preview', save_prefix='dog_breed', save_format='jpeg'):\n",
        "    i += 1\n",
        "    if i > 20:\n",
        "        break  # otherwise the generator would loop indefinitely"
      ],
      "execution_count": null,
      "outputs": []
    },
    {
      "cell_type": "markdown",
      "metadata": {
        "id": "x6uEv84TWXuU"
      },
      "source": [
        "## Displaying the image after image augmentation of \"Tibetan_Mastiff \""
      ]
    },
    {
      "cell_type": "code",
      "metadata": {
        "id": "8_kpvfZkcPWS"
      },
      "source": [
        "img1=load_img('preview/dog_breed_0_6288.jpeg')\n",
        "img1"
      ],
      "execution_count": null,
      "outputs": []
    },
    {
      "cell_type": "code",
      "metadata": {
        "id": "tb4Nc9ZdcPZa"
      },
      "source": [
        "img2=load_img('preview/dog_breed_0_7267.jpeg')\n",
        "img2"
      ],
      "execution_count": null,
      "outputs": []
    },
    {
      "cell_type": "code",
      "metadata": {
        "id": "XO1dhSAwcPc3"
      },
      "source": [
        "img3=load_img('preview/dog_breed_0_9294.jpeg')\n",
        "img3"
      ],
      "execution_count": null,
      "outputs": []
    },
    {
      "cell_type": "markdown",
      "metadata": {
        "id": "xPk0aQDmW8ho"
      },
      "source": [
        "# Implementing Resnet50 Convolution Neural Network architecture."
      ]
    },
    {
      "cell_type": "code",
      "metadata": {
        "id": "NyUlJeu3Kg-k"
      },
      "source": [
        "%matplotlib inline\n",
        "import numpy as np\n",
        "import pandas as pd\n",
        "import matplotlib.pyplot as plt\n",
        "import os\n",
        "from keras.models import Model, Sequential\n",
        "from keras.layers import Input, Flatten, Dense, Conv2D, MaxPooling2D, Dropout\n",
        "from keras.utils import layer_utils\n",
        "from keras import backend as K\n",
        "from keras.optimizers import RMSprop, SGD, Adam\n",
        "from keras.callbacks import EarlyStopping, ReduceLROnPlateau, ModelCheckpoint, TensorBoard, CSVLogger\n",
        "from sklearn.model_selection import train_test_split\n",
        "from sklearn.metrics import log_loss, accuracy_score\n",
        "from keras.preprocessing import image\n",
        "from keras.applications.vgg16 import VGG16\n",
        "from keras.applications.resnet50 import ResNet50\n",
        "from keras.applications import xception\n",
        "from keras.applications import inception_v3\n",
        "from keras.applications.vgg16 import preprocess_input, decode_predictions\n",
        "from keras.preprocessing.image import ImageDataGenerator"
      ],
      "execution_count": 19,
      "outputs": []
    },
    {
      "cell_type": "markdown",
      "metadata": {
        "id": "5nUk7GqcXfa1"
      },
      "source": [
        "**Import ResNet50 weights trained on ImageNet**"
      ]
    },
    {
      "cell_type": "code",
      "metadata": {
        "id": "jO-ikLm_LjrN",
        "colab": {
          "base_uri": "https://localhost:8080/"
        },
        "outputId": "2cb1f98f-30f5-422e-9fc2-d4374bdcfc49"
      },
      "source": [
        "#General idea: https://blog.keras.io/building-powerful-image-classification-models-using-very-little-data.html\n",
        "#The author of this article tried to classify dogs vs cats with a pretrained model and provides an abstract idea \n",
        "model = ResNet50(weights='imagenet',include_top=False, input_shape=(224, 224, 3))"
      ],
      "execution_count": 20,
      "outputs": [
        {
          "output_type": "stream",
          "text": [
            "Downloading data from https://storage.googleapis.com/tensorflow/keras-applications/resnet/resnet50_weights_tf_dim_ordering_tf_kernels_notop.h5\n",
            "94773248/94765736 [==============================] - 1s 0us/step\n"
          ],
          "name": "stdout"
        }
      ]
    },
    {
      "cell_type": "markdown",
      "metadata": {
        "id": "MWjT-4jbXl5k"
      },
      "source": [
        "##Add 5 hidden layers and an output layer"
      ]
    },
    {
      "cell_type": "code",
      "metadata": {
        "id": "_mzHeqpyL3W8"
      },
      "source": [
        "x = model.output\n",
        "x = Flatten()(x)\n",
        "x=Dropout(0.25)(x)\n",
        "x=Dense(units=1000,activation='relu')(x)\n",
        "x=Dropout(0.25)(x)\n",
        "x=Dense(units=750,activation='relu')(x)\n",
        "x=Dropout(0.25)(x)\n",
        "x=Dense(units=750,activation='relu')(x)\n",
        "x=Dropout(0.25)(x)\n",
        "x=Dense(units=750,activation='relu')(x)\n",
        "x=Dropout(0.25)(x)\n",
        "x=Dense(units=1000,activation='relu')(x)\n",
        "x=Dropout(0.6)(x)\n",
        "predictions = Dense(10, activation='softmax')(x)"
      ],
      "execution_count": 21,
      "outputs": []
    },
    {
      "cell_type": "code",
      "metadata": {
        "id": "7WcfDVOkMKRG"
      },
      "source": [
        "import keras\n",
        "main_model = Model(inputs=model.input, outputs=predictions)\n",
        "#train only the hidden layers and output layer, donot train the resnet model\n",
        "for curLayer in model.layers:\n",
        "    curLayer.trainable = False\n",
        "\n",
        "main_model.compile(loss='categorical_crossentropy', \n",
        "              optimizer='adam', \n",
        "              metrics=['accuracy'])\n",
        "\n",
        "callbacks_list = [keras.callbacks.EarlyStopping(monitor='val_acc', patience=3, verbose=1)]\n",
        "#main_model.summary()"
      ],
      "execution_count": 22,
      "outputs": []
    },
    {
      "cell_type": "markdown",
      "metadata": {
        "id": "XVdwA5UAX9dh"
      },
      "source": [
        "## Image Augmentation"
      ]
    },
    {
      "cell_type": "code",
      "metadata": {
        "id": "YCVA_2xYMfiT",
        "colab": {
          "base_uri": "https://localhost:8080/"
        },
        "outputId": "23c70c22-5982-4666-a861-fc18db9c51e0"
      },
      "source": [
        "train_datagen = ImageDataGenerator(\n",
        "        rescale=1./255,\n",
        "        shear_range=0.2,\n",
        "        zoom_range=0.2,\n",
        "        horizontal_flip=True)\n",
        "\n",
        "test_datagen = ImageDataGenerator(rescale=1./255)\n",
        "#check class_mode in keras documentation https://keras.io/preprocessing/image/\n",
        "training_set = train_datagen.flow_from_directory(\n",
        "        'training_images',\n",
        "        target_size=(224, 224),\n",
        "        batch_size=22,\n",
        "        class_mode='categorical')\n",
        "\n",
        "test_set = test_datagen.flow_from_directory(\n",
        "        'validation_images',\n",
        "        target_size=(224, 224),\n",
        "        batch_size=22,\n",
        "        class_mode='categorical')"
      ],
      "execution_count": 23,
      "outputs": [
        {
          "output_type": "stream",
          "text": [
            "Found 681 images belonging to 10 classes.\n",
            "Found 159 images belonging to 10 classes.\n"
          ],
          "name": "stdout"
        }
      ]
    },
    {
      "cell_type": "markdown",
      "metadata": {
        "id": "NevKJ-SbYPIo"
      },
      "source": [
        "## Model Fit"
      ]
    },
    {
      "cell_type": "code",
      "metadata": {
        "id": "JFndTpkUMfms"
      },
      "source": [
        "hist=main_model.fit(\n",
        "        training_set,\n",
        "        steps_per_epoch=30,\n",
        "        epochs=100,\n",
        "        validation_data=test_set,\n",
        "        validation_steps=6,callbacks=callbacks_list)"
      ],
      "execution_count": 51,
      "outputs": []
    },
    {
      "cell_type": "code",
      "metadata": {
        "id": "js1kbVg8T8Ir"
      },
      "source": [
        "# Save the entire model to a HDF5 file.\n",
        "# The '.h5' extension indicates that the model should be saved to HDF5.\n",
        "main_model.save('my_model.h5') "
      ],
      "execution_count": 27,
      "outputs": []
    },
    {
      "cell_type": "markdown",
      "metadata": {
        "id": "g4r8tkCKYZrY"
      },
      "source": [
        "# Obtain Predictions"
      ]
    },
    {
      "cell_type": "code",
      "metadata": {
        "id": "BvEebq55MfqD"
      },
      "source": [
        "import os\n",
        "import cv2\n",
        "import pandas as pd\n",
        "import numpy as np\n",
        "test_set = []\n",
        "test_set_ids = []\n",
        "for curImage in os.listdir('quick_test'):\n",
        "    test_set_ids.append(os.path.splitext(curImage)[0])\n",
        "    curImage = cv2.imread('quick_test/'+curImage)\n",
        "    test_set.append(cv2.resize(curImage,(224, 224)))"
      ],
      "execution_count": 28,
      "outputs": []
    },
    {
      "cell_type": "code",
      "metadata": {
        "id": "Xy3EqAT-pCAr"
      },
      "source": [
        "test_set = np.array(test_set, np.float32)/255.0"
      ],
      "execution_count": 29,
      "outputs": []
    },
    {
      "cell_type": "code",
      "metadata": {
        "id": "JJ2LE_mCumcI"
      },
      "source": [
        "#test_set.shape"
      ],
      "execution_count": null,
      "outputs": []
    },
    {
      "cell_type": "code",
      "metadata": {
        "id": "A53pcIsUxFcX"
      },
      "source": [
        "predictions= main_model.predict(test_set)"
      ],
      "execution_count": 30,
      "outputs": []
    },
    {
      "cell_type": "code",
      "metadata": {
        "id": "VrFLJpKDpCmb",
        "colab": {
          "base_uri": "https://localhost:8080/"
        },
        "outputId": "e9b0efd1-c885-4fef-821b-f8a2ea11f5aa"
      },
      "source": [
        "training_set.class_indices"
      ],
      "execution_count": 31,
      "outputs": [
        {
          "output_type": "execute_result",
          "data": {
            "text/plain": [
              "{'beagle': 0,\n",
              " 'chihuahua': 1,\n",
              " 'doberman': 2,\n",
              " 'french_bulldog': 3,\n",
              " 'golden_retriever': 4,\n",
              " 'malamute': 5,\n",
              " 'pug': 6,\n",
              " 'saint_bernard': 7,\n",
              " 'scottish_deerhound': 8,\n",
              " 'tibetan_mastiff': 9}"
            ]
          },
          "metadata": {
            "tags": []
          },
          "execution_count": 31
        }
      ]
    },
    {
      "cell_type": "markdown",
      "metadata": {
        "id": "zMAl_1JOYv_5"
      },
      "source": [
        "## Process the Prdictions to an Output File"
      ]
    },
    {
      "cell_type": "code",
      "metadata": {
        "id": "vQEQCIhfWpPl",
        "colab": {
          "base_uri": "https://localhost:8080/"
        },
        "outputId": "15e1ebd0-e637-4d25-9f1e-8cc3e7d65382"
      },
      "source": [
        "classes= {index:breed for breed,index in training_set.class_indices.items()}\n",
        "column_names = [classes[i] for i in range(10)]\n",
        "column_names"
      ],
      "execution_count": 32,
      "outputs": [
        {
          "output_type": "execute_result",
          "data": {
            "text/plain": [
              "['beagle',\n",
              " 'chihuahua',\n",
              " 'doberman',\n",
              " 'french_bulldog',\n",
              " 'golden_retriever',\n",
              " 'malamute',\n",
              " 'pug',\n",
              " 'saint_bernard',\n",
              " 'scottish_deerhound',\n",
              " 'tibetan_mastiff']"
            ]
          },
          "metadata": {
            "tags": []
          },
          "execution_count": 32
        }
      ]
    },
    {
      "cell_type": "code",
      "metadata": {
        "id": "FxA4GFrfXiHL",
        "colab": {
          "base_uri": "https://localhost:8080/",
          "height": 245
        },
        "outputId": "d289669c-ab69-47f9-e2b3-d4c06aeb36a6"
      },
      "source": [
        "predictions_df = pd.DataFrame(predictions)\n",
        "predictions_df.columns = column_names\n",
        "predictions_df.insert(0,'id', test_set_ids)\n",
        "predictions_df.set_index('id',inplace=True)\n",
        "predictions_df.head()"
      ],
      "execution_count": 33,
      "outputs": [
        {
          "output_type": "execute_result",
          "data": {
            "text/html": [
              "<div>\n",
              "<style scoped>\n",
              "    .dataframe tbody tr th:only-of-type {\n",
              "        vertical-align: middle;\n",
              "    }\n",
              "\n",
              "    .dataframe tbody tr th {\n",
              "        vertical-align: top;\n",
              "    }\n",
              "\n",
              "    .dataframe thead th {\n",
              "        text-align: right;\n",
              "    }\n",
              "</style>\n",
              "<table border=\"1\" class=\"dataframe\">\n",
              "  <thead>\n",
              "    <tr style=\"text-align: right;\">\n",
              "      <th></th>\n",
              "      <th>beagle</th>\n",
              "      <th>chihuahua</th>\n",
              "      <th>doberman</th>\n",
              "      <th>french_bulldog</th>\n",
              "      <th>golden_retriever</th>\n",
              "      <th>malamute</th>\n",
              "      <th>pug</th>\n",
              "      <th>saint_bernard</th>\n",
              "      <th>scottish_deerhound</th>\n",
              "      <th>tibetan_mastiff</th>\n",
              "    </tr>\n",
              "    <tr>\n",
              "      <th>id</th>\n",
              "      <th></th>\n",
              "      <th></th>\n",
              "      <th></th>\n",
              "      <th></th>\n",
              "      <th></th>\n",
              "      <th></th>\n",
              "      <th></th>\n",
              "      <th></th>\n",
              "      <th></th>\n",
              "      <th></th>\n",
              "    </tr>\n",
              "  </thead>\n",
              "  <tbody>\n",
              "    <tr>\n",
              "      <th>4f06a97002f941d3b1b7021636c27222</th>\n",
              "      <td>0.121437</td>\n",
              "      <td>0.083941</td>\n",
              "      <td>0.091479</td>\n",
              "      <td>0.080956</td>\n",
              "      <td>0.080701</td>\n",
              "      <td>0.105134</td>\n",
              "      <td>0.107601</td>\n",
              "      <td>0.099222</td>\n",
              "      <td>0.151357</td>\n",
              "      <td>0.078173</td>\n",
              "    </tr>\n",
              "    <tr>\n",
              "      <th>4efd18204c98543662580a1874f79d31</th>\n",
              "      <td>0.121437</td>\n",
              "      <td>0.083941</td>\n",
              "      <td>0.091479</td>\n",
              "      <td>0.080956</td>\n",
              "      <td>0.080701</td>\n",
              "      <td>0.105134</td>\n",
              "      <td>0.107601</td>\n",
              "      <td>0.099222</td>\n",
              "      <td>0.151357</td>\n",
              "      <td>0.078173</td>\n",
              "    </tr>\n",
              "    <tr>\n",
              "      <th>4f5f35204ad2b401c1d00557a1dec1c3</th>\n",
              "      <td>0.121437</td>\n",
              "      <td>0.083941</td>\n",
              "      <td>0.091479</td>\n",
              "      <td>0.080956</td>\n",
              "      <td>0.080701</td>\n",
              "      <td>0.105134</td>\n",
              "      <td>0.107601</td>\n",
              "      <td>0.099222</td>\n",
              "      <td>0.151357</td>\n",
              "      <td>0.078173</td>\n",
              "    </tr>\n",
              "    <tr>\n",
              "      <th>6ce2f79bfc8e23d4158f79d1b2d034d1</th>\n",
              "      <td>0.121437</td>\n",
              "      <td>0.083941</td>\n",
              "      <td>0.091479</td>\n",
              "      <td>0.080956</td>\n",
              "      <td>0.080701</td>\n",
              "      <td>0.105134</td>\n",
              "      <td>0.107601</td>\n",
              "      <td>0.099222</td>\n",
              "      <td>0.151357</td>\n",
              "      <td>0.078173</td>\n",
              "    </tr>\n",
              "    <tr>\n",
              "      <th>4ef2b99d3028844d067feda58dc5f1f0</th>\n",
              "      <td>0.121437</td>\n",
              "      <td>0.083941</td>\n",
              "      <td>0.091479</td>\n",
              "      <td>0.080956</td>\n",
              "      <td>0.080701</td>\n",
              "      <td>0.105134</td>\n",
              "      <td>0.107601</td>\n",
              "      <td>0.099222</td>\n",
              "      <td>0.151357</td>\n",
              "      <td>0.078173</td>\n",
              "    </tr>\n",
              "  </tbody>\n",
              "</table>\n",
              "</div>"
            ],
            "text/plain": [
              "                                    beagle  ...  tibetan_mastiff\n",
              "id                                          ...                 \n",
              "4f06a97002f941d3b1b7021636c27222  0.121437  ...         0.078173\n",
              "4efd18204c98543662580a1874f79d31  0.121437  ...         0.078173\n",
              "4f5f35204ad2b401c1d00557a1dec1c3  0.121437  ...         0.078173\n",
              "6ce2f79bfc8e23d4158f79d1b2d034d1  0.121437  ...         0.078173\n",
              "4ef2b99d3028844d067feda58dc5f1f0  0.121437  ...         0.078173\n",
              "\n",
              "[5 rows x 10 columns]"
            ]
          },
          "metadata": {
            "tags": []
          },
          "execution_count": 33
        }
      ]
    },
    {
      "cell_type": "code",
      "metadata": {
        "id": "xOlhAFZpYE3b"
      },
      "source": [
        "predictions_df.to_csv('final_submission.csv',sep=\",\")"
      ],
      "execution_count": null,
      "outputs": []
    },
    {
      "cell_type": "code",
      "metadata": {
        "id": "bDwIb7pwZec3"
      },
      "source": [
        "print(hist.history)"
      ],
      "execution_count": null,
      "outputs": []
    },
    {
      "cell_type": "code",
      "metadata": {
        "id": "WgYMLTZStNqd",
        "colab": {
          "base_uri": "https://localhost:8080/",
          "height": 279
        },
        "outputId": "f994fb16-76f4-4c9b-d345-98deb442092d"
      },
      "source": [
        "plt.plot(hist.history['accuracy'],label=\"Accuracy\")\n",
        "plt.plot(hist.history['val_accuracy'], label=\"Validation accuracy\")\n",
        "plt.legend()\n",
        "plt.xlabel('epochs')\n",
        "plt.show()"
      ],
      "execution_count": 25,
      "outputs": [
        {
          "output_type": "display_data",
          "data": {
            "image/png": "[encoded data removed]",
            "text/plain": [
              "<Figure size 432x288 with 1 Axes>"
            ]
          },
          "metadata": {
            "tags": [],
            "needs_background": "light"
          }
        }
      ]
    },
    {
      "cell_type": "code",
      "metadata": {
        "id": "DhmRediEtN4v",
        "colab": {
          "base_uri": "https://localhost:8080/",
          "height": 279
        },
        "outputId": "86655d6b-7af9-47fa-acba-e312a5aecb62"
      },
      "source": [
        "plt.plot(hist.history['loss'],label=\"traing loss\")\n",
        "plt.plot(hist.history['val_loss'], label=\"Validation loss\")\n",
        "plt.legend()\n",
        "plt.xlabel('epochs')\n",
        "plt.show()"
      ],
      "execution_count": 26,
      "outputs": [
        {
          "output_type": "display_data",
          "data": {
            "image/png": "[encoded data removed]",
            "text/plain": [
              "<Figure size 432x288 with 1 Axes>"
            ]
          },
          "metadata": {
            "tags": [],
            "needs_background": "light"
          }
        }
      ]
    },
    {
      "cell_type": "markdown",
      "metadata": {
        "id": "tAAm3EKCXdiU"
      },
      "source": [
        "# Evaluation metrics"
      ]
    },
    {
      "cell_type": "code",
      "metadata": {
        "colab": {
          "base_uri": "https://localhost:8080/"
        },
        "id": "4D_No6SwZKKP",
        "outputId": "dcd5150a-2116-4066-ec99-c2f8c625f085"
      },
      "source": [
        "validation_generator = test_datagen.flow_from_directory(\n",
        "        'validation_images',\n",
        "        target_size=(244, 244),\n",
        "        batch_size=22,\n",
        "        class_mode='categorical',\n",
        "        shuffle=False)"
      ],
      "execution_count": 42,
      "outputs": [
        {
          "output_type": "stream",
          "text": [
            "Found 159 images belonging to 10 classes.\n"
          ],
          "name": "stdout"
        }
      ]
    },
    {
      "cell_type": "code",
      "metadata": {
        "colab": {
          "base_uri": "https://localhost:8080/"
        },
        "id": "UlBQPpHhZZ01",
        "outputId": "7d5b7ff3-9b1b-458d-f6ce-e75fe100f615"
      },
      "source": [
        "y_true = validation_generator.classes\n",
        "print(y_true.shape,y_pred.shape)"
      ],
      "execution_count": 43,
      "outputs": [
        {
          "output_type": "stream",
          "text": [
            "(159,) (159,)\n"
          ],
          "name": "stdout"
        }
      ]
    },
    {
      "cell_type": "code",
      "metadata": {
        "id": "OSSYLshYZQJ7"
      },
      "source": [
        "Y_pred = model.predict(validation_generator, 6) #num_of_test_samples // batch_size+1\n",
        "y_pred = np.argmax(np.argmax(np.argmax(Y_pred, axis = 1), axis = 1), axis=1)"
      ],
      "execution_count": 45,
      "outputs": []
    },
    {
      "cell_type": "markdown",
      "metadata": {
        "id": "TxEh9Ru-Y-go"
      },
      "source": [
        "## Accuracy"
      ]
    },
    {
      "cell_type": "code",
      "metadata": {
        "colab": {
          "base_uri": "https://localhost:8080/"
        },
        "id": "3m0EwOiGY-DA",
        "outputId": "02286bfa-10ff-465e-bbe6-3678d79efb3e"
      },
      "source": [
        "print('\\nAccuracy: {:.2f}\\n'.format(accuracy_score(y_true, y_pred)))"
      ],
      "execution_count": 41,
      "outputs": [
        {
          "output_type": "stream",
          "text": [
            "\n",
            "Accuracy: 0.07\n",
            "\n"
          ],
          "name": "stdout"
        }
      ]
    },
    {
      "cell_type": "markdown",
      "metadata": {
        "id": "k4o_Wd0dXuUY"
      },
      "source": [
        "## Confusion_matrix"
      ]
    },
    {
      "cell_type": "code",
      "metadata": {
        "id": "j2nGUSliXYVi"
      },
      "source": [
        "from sklearn.metrics import classification_report, confusion_matrix\n",
        "import seaborn as sn"
      ],
      "execution_count": 34,
      "outputs": []
    },
    {
      "cell_type": "code",
      "metadata": {
        "id": "JWy2Ofy9tOBB",
        "colab": {
          "base_uri": "https://localhost:8080/",
          "height": 442
        },
        "outputId": "0b1c7e20-c551-46d9-bccf-05748ed582c5"
      },
      "source": [
        "array = confusion_matrix(y_true, y_pred)\n",
        "df_cm = pd.DataFrame(array, range(17), range(17))\n",
        "plt.figure(figsize=(10,7))\n",
        "sn.set(font_scale=1.4) # for label size\n",
        "sn.heatmap(df_cm, annot=True, annot_kws={\"size\": 16}) # font size\n",
        "plt.show()"
      ],
      "execution_count": 46,
      "outputs": [
        {
          "output_type": "display_data",
          "data": {
            "image/png": "[encoded data removed]",
            "text/plain": [
              "<Figure size 720x504 with 2 Axes>"
            ]
          },
          "metadata": {
            "tags": []
          }
        }
      ]
    },
    {
      "cell_type": "markdown",
      "metadata": {
        "id": "6771gDDbZ957"
      },
      "source": [
        "## F1 Score"
      ]
    },
    {
      "cell_type": "code",
      "metadata": {
        "colab": {
          "base_uri": "https://localhost:8080/"
        },
        "id": "r7WxAuylYW_j",
        "outputId": "6bda41f6-c100-4c63-c4e7-60161e289878"
      },
      "source": [
        "print(classification_report(y_true, y_pred,))"
      ],
      "execution_count": 48,
      "outputs": [
        {
          "output_type": "stream",
          "text": [
            "              precision    recall  f1-score   support\n",
            "\n",
            "           0       0.00      0.00      0.00        22\n",
            "           1       0.08      0.71      0.15        14\n",
            "           2       0.00      0.00      0.00        11\n",
            "           3       0.00      0.00      0.00        15\n",
            "           4       0.00      0.00      0.00        13\n",
            "           5       0.00      0.00      0.00        10\n",
            "           6       0.00      0.00      0.00        21\n",
            "           7       0.00      0.00      0.00        16\n",
            "           8       0.00      0.00      0.00        21\n",
            "           9       0.08      0.06      0.07        16\n",
            "          11       0.00      0.00      0.00         0\n",
            "          22       0.00      0.00      0.00         0\n",
            "          24       0.00      0.00      0.00         0\n",
            "          37       0.00      0.00      0.00         0\n",
            "          50       0.00      0.00      0.00         0\n",
            "          60       0.00      0.00      0.00         0\n",
            "          65       0.00      0.00      0.00         0\n",
            "\n",
            "    accuracy                           0.07       159\n",
            "   macro avg       0.01      0.05      0.01       159\n",
            "weighted avg       0.01      0.07      0.02       159\n",
            "\n"
          ],
          "name": "stdout"
        },
        {
          "output_type": "stream",
          "text": [
            "/usr/local/lib/python3.7/dist-packages/sklearn/metrics/_classification.py:1272: UndefinedMetricWarning: Precision and F-score are ill-defined and being set to 0.0 in labels with no predicted samples. Use `zero_division` parameter to control this behavior.\n",
            "  _warn_prf(average, modifier, msg_start, len(result))\n",
            "/usr/local/lib/python3.7/dist-packages/sklearn/metrics/_classification.py:1272: UndefinedMetricWarning: Recall and F-score are ill-defined and being set to 0.0 in labels with no true samples. Use `zero_division` parameter to control this behavior.\n",
            "  _warn_prf(average, modifier, msg_start, len(result))\n"
          ],
          "name": "stderr"
        }
      ]
    },
    {
      "cell_type": "code",
      "metadata": {
        "id": "yJ8ZoSnOYW7m"
      },
      "source": [
        ""
      ],
      "execution_count": 48,
      "outputs": []
    },
    {
      "cell_type": "code",
      "metadata": {
        "id": "mvBFcpreYW5K"
      },
      "source": [
        ""
      ],
      "execution_count": 48,
      "outputs": []
    },
    {
      "cell_type": "code",
      "metadata": {
        "id": "6IbMQ3vXYW2V"
      },
      "source": [
        ""
      ],
      "execution_count": 48,
      "outputs": []
    },
    {
      "cell_type": "code",
      "metadata": {
        "id": "zObp0qjaYWzD"
      },
      "source": [
        ""
      ],
      "execution_count": 48,
      "outputs": []
    },
    {
      "cell_type": "code",
      "metadata": {
        "id": "0DGzUEmvYWvj"
      },
      "source": [
        ""
      ],
      "execution_count": null,
      "outputs": []
    },
    {
      "cell_type": "code",
      "metadata": {
        "id": "XnheakqNYWpc"
      },
      "source": [
        ""
      ],
      "execution_count": null,
      "outputs": []
    },
    {
      "cell_type": "code",
      "metadata": {
        "id": "LSS2GXenYWb5"
      },
      "source": [
        ""
      ],
      "execution_count": null,
      "outputs": []
    },
    {
      "cell_type": "code",
      "metadata": {
        "id": "eEsjYW37tOEa"
      },
      "source": [
        "\n"
      ],
      "execution_count": null,
      "outputs": []
    },
    {
      "cell_type": "code",
      "metadata": {
        "id": "HSKhNmc16fDp"
      },
      "source": [
        ""
      ],
      "execution_count": null,
      "outputs": []
    }
  ]
}